{
  "nbformat": 4,
  "nbformat_minor": 0,
  "metadata": {
    "colab": {
      "provenance": []
    },
    "kernelspec": {
      "name": "python3",
      "display_name": "Python 3"
    },
    "language_info": {
      "name": "python"
    }
  },
  "cells": [
    {
      "cell_type": "code",
      "execution_count": 1,
      "metadata": {
        "id": "n2y1b29Z2wXX"
      },
      "outputs": [],
      "source": [
        "from tkinter import *"
      ]
    },
    {
      "cell_type": "code",
      "source": [
        "import random"
      ],
      "metadata": {
        "id": "DriQNopA26wT"
      },
      "execution_count": 2,
      "outputs": []
    },
    {
      "cell_type": "code",
      "source": [
        "# creating main class\n",
        "    # creating user window\n",
        "      # creating new game\n",
        "    # add new tiles\n",
        "      # check while game is not over\n",
        "    # check if board is full or not\n",
        "    # show the game board\n",
        "    # show board block when is empty\n",
        "    # show board number\n",
        "    # moves by the user\n",
        "      # down\n",
        "      # right\n",
        "      # left\n",
        "      # up\n",
        "    # create new game\n",
        "    # check for if game is over\n",
        "    # check for if game is won\n",
        "    # prepare main window"
      ],
      "metadata": {
        "id": "yy_W3kQf28fX"
      },
      "execution_count": 3,
      "outputs": []
    },
    {
      "cell_type": "code",
      "source": [
        "# creating main class\n",
        "class Play_2048(Tk):\n",
        "  game_board = []\n",
        "  new_random_tiles = [2, 2, 2, 2, 2, 4]\n",
        "  score = 0\n",
        "  high_score = 0\n",
        "  game_score = 0\n",
        "  highest_score = 0"
      ],
      "metadata": {
        "id": "OgoomoO74Gvv"
      },
      "execution_count": 4,
      "outputs": []
    },
    {
      "cell_type": "code",
      "source": [],
      "metadata": {
        "id": "dA3mMx1j4Iqr"
      },
      "execution_count": null,
      "outputs": []
    }
  ]
}